{
 "cells": [
  {
   "cell_type": "code",
   "execution_count": 32,
   "metadata": {},
   "outputs": [],
   "source": [
    "import pandas as pd\n",
    "import numpy as np\n",
    "import datetime as dt\n",
    "import matplotlib.pyplot as plt\n",
    "from More_futuristic_LSTM import*"
   ]
  },
  {
   "cell_type": "code",
   "execution_count": 33,
   "metadata": {},
   "outputs": [
    {
     "name": "stderr",
     "output_type": "stream",
     "text": [
      "C:\\Users\\anton\\AppData\\Local\\Temp\\ipykernel_9036\\47752094.py:1: FutureWarning: Defining usecols with out of bounds indices is deprecated and will raise a ParserError in a future version.\n",
      "  df_prices = pd.read_excel('data/train.xlsx', usecols=\"B:Z\")\n"
     ]
    }
   ],
   "source": [
    "df_prices = pd.read_excel('data/train.xlsx', usecols=\"B:Z\")"
   ]
  },
  {
   "cell_type": "code",
   "execution_count": 34,
   "metadata": {},
   "outputs": [],
   "source": [
    "df_days = pd.read_excel('data/train.xlsx', usecols=\"A\")\n",
    "df_days[\"PRICES\"] = df_days[\"PRICES\"].dt.day_of_week\n",
    "df_days[\"a\"], df_days[\"b\"], df_days[\"c\"], df_days[\"v\"], df_days[\"w\"], df_days[\"d\"], df_days[\"e\"], df_days[\"f\"], df_days[\"g\"], df_days[\"h\"], df_days[\"i\"], df_days[\"j\"], df_days[\"k\"], df_days[\"l\"], df_days[\"m\"], df_days[\"n\"], df_days[\"o\"], df_days[\"p\"], df_days[\"q\"], df_days[\"r\"], df_days[\"s\"], df_days[\"t\"], df_days[\"u\"] = [df_days[\"PRICES\"], df_days[\"PRICES\"], df_days[\"PRICES\"], df_days[\"PRICES\"], df_days[\"PRICES\"], df_days[\"PRICES\"], df_days[\"PRICES\"], df_days[\"PRICES\"], df_days[\"PRICES\"], df_days[\"PRICES\"], df_days[\"PRICES\"], df_days[\"PRICES\"], df_days[\"PRICES\"], df_days[\"PRICES\"], df_days[\"PRICES\"], df_days[\"PRICES\"], df_days[\"PRICES\"], df_days[\"PRICES\"], df_days[\"PRICES\"], df_days[\"PRICES\"], df_days[\"PRICES\"], df_days[\"PRICES\"], df_days[\"PRICES\"]]\n",
    "df_days = df_days.to_numpy().flatten()"
   ]
  },
  {
   "cell_type": "code",
   "execution_count": 35,
   "metadata": {},
   "outputs": [],
   "source": [
    "df_week = pd.read_excel('data/train.xlsx', usecols=\"A\")\n",
    "df_week[\"PRICES\"] = df_week[\"PRICES\"].dt.isocalendar().week - 1\n",
    "df_week[\"a\"], df_week[\"b\"], df_week[\"c\"], df_week[\"v\"], df_week[\"w\"], df_week[\"d\"], df_week[\"e\"], df_week[\"f\"], df_week[\"g\"], df_week[\"h\"], df_week[\"i\"], df_week[\"j\"], df_week[\"k\"], df_week[\"l\"], df_week[\"m\"], df_week[\"n\"], df_week[\"o\"], df_week[\"p\"], df_week[\"q\"], df_week[\"r\"], df_week[\"s\"], df_week[\"t\"], df_week[\"u\"] = [df_week[\"PRICES\"], df_week[\"PRICES\"], df_week[\"PRICES\"], df_week[\"PRICES\"], df_week[\"PRICES\"], df_week[\"PRICES\"], df_week[\"PRICES\"], df_week[\"PRICES\"], df_week[\"PRICES\"], df_week[\"PRICES\"], df_week[\"PRICES\"], df_week[\"PRICES\"], df_week[\"PRICES\"], df_week[\"PRICES\"], df_week[\"PRICES\"], df_week[\"PRICES\"], df_week[\"PRICES\"], df_week[\"PRICES\"], df_week[\"PRICES\"], df_week[\"PRICES\"], df_week[\"PRICES\"], df_week[\"PRICES\"], df_week[\"PRICES\"]]\n",
    "df_week = df_week.to_numpy().flatten()"
   ]
  },
  {
   "cell_type": "code",
   "execution_count": 36,
   "metadata": {},
   "outputs": [],
   "source": [
    "df_month = pd.read_excel('data/train.xlsx', usecols=\"A\")\n",
    "df_month[\"PRICES\"] = df_month[\"PRICES\"].dt.month - 1\n",
    "df_month[\"a\"], df_month[\"b\"], df_month[\"c\"], df_month[\"v\"], df_month[\"w\"], df_month[\"d\"], df_month[\"e\"], df_month[\"f\"], df_month[\"g\"], df_month[\"h\"], df_month[\"i\"], df_month[\"j\"], df_month[\"k\"], df_month[\"l\"], df_month[\"m\"], df_month[\"n\"], df_month[\"o\"], df_month[\"p\"], df_month[\"q\"], df_month[\"r\"], df_month[\"s\"], df_month[\"t\"], df_month[\"u\"] = [df_month[\"PRICES\"], df_month[\"PRICES\"], df_month[\"PRICES\"], df_month[\"PRICES\"], df_month[\"PRICES\"], df_month[\"PRICES\"], df_month[\"PRICES\"], df_month[\"PRICES\"], df_month[\"PRICES\"], df_month[\"PRICES\"], df_month[\"PRICES\"], df_month[\"PRICES\"], df_month[\"PRICES\"], df_month[\"PRICES\"], df_month[\"PRICES\"], df_month[\"PRICES\"], df_month[\"PRICES\"], df_month[\"PRICES\"], df_month[\"PRICES\"], df_month[\"PRICES\"], df_month[\"PRICES\"], df_month[\"PRICES\"], df_month[\"PRICES\"]]\n",
    "df_month = df_month.to_numpy().flatten()"
   ]
  },
  {
   "cell_type": "code",
   "execution_count": 37,
   "metadata": {},
   "outputs": [],
   "source": [
    "df_hour = np.arange(24)\n",
    "df_hour = np.tile(df_hour, df_prices.shape[0])\n"
   ]
  },
  {
   "cell_type": "code",
   "execution_count": 38,
   "metadata": {},
   "outputs": [
    {
     "data": {
      "text/plain": [
       "26304"
      ]
     },
     "execution_count": 38,
     "metadata": {},
     "output_type": "execute_result"
    }
   ],
   "source": [
    "df_prices = df_prices.to_numpy().flatten()\n",
    "len(df_prices)"
   ]
  },
  {
   "cell_type": "code",
   "execution_count": 39,
   "metadata": {},
   "outputs": [],
   "source": [
    "observations = pd.DataFrame({\n",
    "    \"prices\": df_prices, \n",
    "    \"hour\": df_hour,\n",
    "    \"day\": df_days,\n",
    "    \"week\": df_week,\n",
    "    \"month\" : df_month\n",
    "})"
   ]
  },
  {
   "cell_type": "code",
   "execution_count": 40,
   "metadata": {},
   "outputs": [],
   "source": [
    "observations['weekend'] = observations['day'].apply(lambda x: 1 if x > 4 else 0)\n",
    "observations.to_csv('data/train_processed.csv')"
   ]
  },
  {
   "cell_type": "code",
   "execution_count": 41,
   "metadata": {},
   "outputs": [
    {
     "name": "stdout",
     "output_type": "stream",
     "text": [
      "Keras model archive loading:\n",
      "File Name                                             Modified             Size\n",
      "config.json                                    2023-01-31 01:37:58         1780\n",
      "metadata.json                                  2023-01-31 01:37:58           64\n",
      "variables.h5                                   2023-01-31 01:37:58      1117584\n",
      "Keras weights file (<HDF5 file \"variables.h5\" (mode r)>) loading:\n",
      "...layers\\dense\n",
      "......vars\n",
      ".........0\n",
      ".........1\n",
      "...layers\\lstm\n",
      "......vars\n",
      "...layers\\lstm\\cell\n",
      "......vars\n",
      ".........0\n",
      ".........1\n",
      ".........2\n",
      "...metrics\\mean\n",
      "......vars\n",
      ".........0\n",
      ".........1\n",
      "...optimizer\n",
      "......vars\n",
      ".........0\n",
      ".........1\n",
      ".........10\n",
      ".........2\n",
      ".........3\n",
      ".........4\n",
      ".........5\n",
      ".........6\n",
      ".........7\n",
      ".........8\n",
      ".........9\n",
      "...vars\n",
      "822/822 [==============================] - 4s 5ms/step\n"
     ]
    },
    {
     "name": "stderr",
     "output_type": "stream",
     "text": [
      "c:\\Users\\anton\\py_versions\\py3104\\lib\\site-packages\\scipy\\optimize\\_minpack_py.py:833: OptimizeWarning: Covariance of the parameters could not be estimated\n",
      "  warnings.warn('Covariance of the parameters could not be estimated',\n"
     ]
    }
   ],
   "source": [
    "with open(f'./LSTMmodel-66.pickle','rb') as f:\n",
    "    model = pickle.load(f)\n",
    "\n",
    "train_data = pd.read_csv('data/train_processed.csv')\n",
    "\n",
    "X, Y = prepare_data(train_data, num_time_steps=27, num_predict_steps=3)\n",
    "Y_pred = model.predict(X)\n",
    "action_list = assign_action_points(Y_pred, X)\n"
   ]
  },
  {
   "cell_type": "code",
   "execution_count": 42,
   "metadata": {},
   "outputs": [],
   "source": [
    "observations['lstm']=action_list"
   ]
  },
  {
   "cell_type": "code",
   "execution_count": 43,
   "metadata": {},
   "outputs": [
    {
     "data": {
      "text/plain": [
       " 0    15024\n",
       " 1     5964\n",
       "-1     5316\n",
       "Name: lstm, dtype: int64"
      ]
     },
     "execution_count": 43,
     "metadata": {},
     "output_type": "execute_result"
    }
   ],
   "source": [
    "observations.to_csv('data/train_processed_wth_lstm.csv')\n",
    "observations['lstm'].value_counts()"
   ]
  }
 ],
 "metadata": {
  "kernelspec": {
   "display_name": "Python 3",
   "language": "python",
   "name": "python3"
  },
  "language_info": {
   "codemirror_mode": {
    "name": "ipython",
    "version": 3
   },
   "file_extension": ".py",
   "mimetype": "text/x-python",
   "name": "python",
   "nbconvert_exporter": "python",
   "pygments_lexer": "ipython3",
   "version": "3.10.4"
  },
  "orig_nbformat": 4,
  "vscode": {
   "interpreter": {
    "hash": "24d49f9ba279f85446c364afe46b660d98cabfcb87f24a84dd67db72bb8348bd"
   }
  }
 },
 "nbformat": 4,
 "nbformat_minor": 2
}
