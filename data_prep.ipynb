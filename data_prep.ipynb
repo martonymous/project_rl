{
 "cells": [
  {
   "cell_type": "code",
   "execution_count": 1,
   "metadata": {},
   "outputs": [
    {
     "ename": "ModuleNotFoundError",
     "evalue": "No module named 'talib'",
     "output_type": "error",
     "traceback": [
      "\u001b[1;31m---------------------------------------------------------------------------\u001b[0m",
      "\u001b[1;31mModuleNotFoundError\u001b[0m                       Traceback (most recent call last)",
      "\u001b[1;32mc:\\Users\\anton\\Desktop\\PRL\\project_rl\\data_prep.ipynb Cell 1\u001b[0m in \u001b[0;36m<cell line: 5>\u001b[1;34m()\u001b[0m\n\u001b[0;32m      <a href='vscode-notebook-cell:/c%3A/Users/anton/Desktop/PRL/project_rl/data_prep.ipynb#W0sZmlsZQ%3D%3D?line=2'>3</a>\u001b[0m \u001b[39mimport\u001b[39;00m \u001b[39mdatetime\u001b[39;00m \u001b[39mas\u001b[39;00m \u001b[39mdt\u001b[39;00m\n\u001b[0;32m      <a href='vscode-notebook-cell:/c%3A/Users/anton/Desktop/PRL/project_rl/data_prep.ipynb#W0sZmlsZQ%3D%3D?line=3'>4</a>\u001b[0m \u001b[39mimport\u001b[39;00m \u001b[39mmatplotlib\u001b[39;00m\u001b[39m.\u001b[39;00m\u001b[39mpyplot\u001b[39;00m \u001b[39mas\u001b[39;00m \u001b[39mplt\u001b[39;00m\n\u001b[1;32m----> <a href='vscode-notebook-cell:/c%3A/Users/anton/Desktop/PRL/project_rl/data_prep.ipynb#W0sZmlsZQ%3D%3D?line=4'>5</a>\u001b[0m \u001b[39mimport\u001b[39;00m \u001b[39mtalib\u001b[39;00m \u001b[39mas\u001b[39;00m \u001b[39mta\u001b[39;00m\n",
      "\u001b[1;31mModuleNotFoundError\u001b[0m: No module named 'talib'"
     ]
    }
   ],
   "source": [
    "import pandas as pd\n",
    "import numpy as np\n",
    "import datetime as dt\n",
    "import matplotlib.pyplot as plt\n",
    "import talib as ta"
   ]
  },
  {
   "cell_type": "code",
   "execution_count": null,
   "metadata": {},
   "outputs": [
    {
     "name": "stderr",
     "output_type": "stream",
     "text": [
      "C:\\Users\\Márton\\AppData\\Local\\Temp\\ipykernel_19584\\1909927849.py:1: FutureWarning: Defining usecols with out of bounds indices is deprecated and will raise a ParserError in a future version.\n",
      "  df_prices = pd.read_excel('data/validate.xlsx', usecols=\"B:Z\")\n"
     ]
    }
   ],
   "source": [
    "df_prices = pd.read_excel('data/validate.xlsx', usecols=\"B:Z\")"
   ]
  },
  {
   "cell_type": "code",
   "execution_count": null,
   "metadata": {},
   "outputs": [],
   "source": [
    "df_days = pd.read_excel('data/validate.xlsx', usecols=\"A\")\n",
    "df_days[\"PRICES\"] = df_days[\"PRICES\"].dt.day_of_week\n",
    "df_days[\"a\"], df_days[\"b\"], df_days[\"c\"], df_days[\"v\"], df_days[\"w\"], df_days[\"d\"], df_days[\"e\"], df_days[\"f\"], df_days[\"g\"], df_days[\"h\"], df_days[\"i\"], df_days[\"j\"], df_days[\"k\"], df_days[\"l\"], df_days[\"m\"], df_days[\"n\"], df_days[\"o\"], df_days[\"p\"], df_days[\"q\"], df_days[\"r\"], df_days[\"s\"], df_days[\"t\"], df_days[\"u\"] = [df_days[\"PRICES\"], df_days[\"PRICES\"], df_days[\"PRICES\"], df_days[\"PRICES\"], df_days[\"PRICES\"], df_days[\"PRICES\"], df_days[\"PRICES\"], df_days[\"PRICES\"], df_days[\"PRICES\"], df_days[\"PRICES\"], df_days[\"PRICES\"], df_days[\"PRICES\"], df_days[\"PRICES\"], df_days[\"PRICES\"], df_days[\"PRICES\"], df_days[\"PRICES\"], df_days[\"PRICES\"], df_days[\"PRICES\"], df_days[\"PRICES\"], df_days[\"PRICES\"], df_days[\"PRICES\"], df_days[\"PRICES\"], df_days[\"PRICES\"]]\n",
    "df_days = df_days.to_numpy().flatten()"
   ]
  },
  {
   "cell_type": "code",
   "execution_count": null,
   "metadata": {},
   "outputs": [],
   "source": [
    "df_week = pd.read_excel('data/validate.xlsx', usecols=\"A\")\n",
    "df_week[\"PRICES\"] = df_week[\"PRICES\"].dt.isocalendar().week - 1\n",
    "df_week[\"a\"], df_week[\"b\"], df_week[\"c\"], df_week[\"v\"], df_week[\"w\"], df_week[\"d\"], df_week[\"e\"], df_week[\"f\"], df_week[\"g\"], df_week[\"h\"], df_week[\"i\"], df_week[\"j\"], df_week[\"k\"], df_week[\"l\"], df_week[\"m\"], df_week[\"n\"], df_week[\"o\"], df_week[\"p\"], df_week[\"q\"], df_week[\"r\"], df_week[\"s\"], df_week[\"t\"], df_week[\"u\"] = [df_week[\"PRICES\"], df_week[\"PRICES\"], df_week[\"PRICES\"], df_week[\"PRICES\"], df_week[\"PRICES\"], df_week[\"PRICES\"], df_week[\"PRICES\"], df_week[\"PRICES\"], df_week[\"PRICES\"], df_week[\"PRICES\"], df_week[\"PRICES\"], df_week[\"PRICES\"], df_week[\"PRICES\"], df_week[\"PRICES\"], df_week[\"PRICES\"], df_week[\"PRICES\"], df_week[\"PRICES\"], df_week[\"PRICES\"], df_week[\"PRICES\"], df_week[\"PRICES\"], df_week[\"PRICES\"], df_week[\"PRICES\"], df_week[\"PRICES\"]]\n",
    "df_week = df_week.to_numpy().flatten()"
   ]
  },
  {
   "cell_type": "code",
   "execution_count": null,
   "metadata": {},
   "outputs": [],
   "source": [
    "df_month = pd.read_excel('data/validate.xlsx', usecols=\"A\")\n",
    "df_month[\"PRICES\"] = df_month[\"PRICES\"].dt.month - 1\n",
    "df_month[\"a\"], df_month[\"b\"], df_month[\"c\"], df_month[\"v\"], df_month[\"w\"], df_month[\"d\"], df_month[\"e\"], df_month[\"f\"], df_month[\"g\"], df_month[\"h\"], df_month[\"i\"], df_month[\"j\"], df_month[\"k\"], df_month[\"l\"], df_month[\"m\"], df_month[\"n\"], df_month[\"o\"], df_month[\"p\"], df_month[\"q\"], df_month[\"r\"], df_month[\"s\"], df_month[\"t\"], df_month[\"u\"] = [df_month[\"PRICES\"], df_month[\"PRICES\"], df_month[\"PRICES\"], df_month[\"PRICES\"], df_month[\"PRICES\"], df_month[\"PRICES\"], df_month[\"PRICES\"], df_month[\"PRICES\"], df_month[\"PRICES\"], df_month[\"PRICES\"], df_month[\"PRICES\"], df_month[\"PRICES\"], df_month[\"PRICES\"], df_month[\"PRICES\"], df_month[\"PRICES\"], df_month[\"PRICES\"], df_month[\"PRICES\"], df_month[\"PRICES\"], df_month[\"PRICES\"], df_month[\"PRICES\"], df_month[\"PRICES\"], df_month[\"PRICES\"], df_month[\"PRICES\"]]\n",
    "df_month = df_month.to_numpy().flatten()"
   ]
  },
  {
   "cell_type": "code",
   "execution_count": null,
   "metadata": {},
   "outputs": [],
   "source": [
    "df_hour = np.arange(24)\n",
    "df_hour = np.tile(df_hour, df_prices.shape[0])\n"
   ]
  },
  {
   "cell_type": "code",
   "execution_count": null,
   "metadata": {},
   "outputs": [
    {
     "data": {
      "text/plain": [
       "17520"
      ]
     },
     "execution_count": 35,
     "metadata": {},
     "output_type": "execute_result"
    }
   ],
   "source": [
    "df_prices = df_prices.to_numpy().flatten()\n",
    "len(df_prices)"
   ]
  },
  {
   "cell_type": "code",
   "execution_count": null,
   "metadata": {},
   "outputs": [],
   "source": [
    "observations = pd.DataFrame({\n",
    "    \"prices\": df_prices, \n",
    "    \"hour\": df_hour,\n",
    "    \"day\": df_days,\n",
    "    \"week\": df_week,\n",
    "    \"month\" : df_month\n",
    "})"
   ]
  },
  {
   "cell_type": "code",
   "execution_count": null,
   "metadata": {},
   "outputs": [
    {
     "data": {
      "text/plain": [
       "52"
      ]
     },
     "execution_count": 37,
     "metadata": {},
     "output_type": "execute_result"
    }
   ],
   "source": [
    "np.max(df_week)"
   ]
  },
  {
   "cell_type": "code",
   "execution_count": null,
   "metadata": {},
   "outputs": [
    {
     "data": {
      "text/plain": [
       "[<matplotlib.lines.Line2D at 0x1c6a2a7a730>]"
      ]
     },
     "execution_count": 38,
     "metadata": {},
     "output_type": "execute_result"
    },
    {
     "data": {
      "image/png": "[encoded data removed]",
      "text/plain": [
       "<Figure size 1000x1000 with 1 Axes>"
      ]
     },
     "metadata": {},
     "output_type": "display_data"
    }
   ],
   "source": [
    "plt.figure(figsize=(10,10))\n",
    "plt.plot(df_prices)"
   ]
  },
  {
   "cell_type": "code",
   "execution_count": null,
   "metadata": {},
   "outputs": [],
   "source": [
    "observations['weekend'] = observations['day'].apply(lambda x: 1 if x > 4 else 0)"
   ]
  },
  {
   "cell_type": "code",
   "execution_count": null,
   "metadata": {},
   "outputs": [],
   "source": [
    "n = 6"
   ]
  },
  {
   "cell_type": "code",
   "execution_count": null,
   "metadata": {},
   "outputs": [],
   "source": [
    "observations['rsi'] = 100 - (100 / (1 + observations['prices'].diff(1).mask(observations['prices'].diff(1) < 0, 0).ewm(alpha=1/n, adjust=False).mean() / observations['prices'].diff(1).mask(observations['prices'].diff(1) > 0, -0.0).abs().ewm(alpha=1/n, adjust=False).mean()))\n",
    "observations['roc'] = (observations['prices'].shift(n) - observations['prices']) / observations['prices'].shift(n) * 100"
   ]
  },
  {
   "cell_type": "code",
   "execution_count": null,
   "metadata": {},
   "outputs": [
    {
     "data": {
      "text/html": [
       "<div>\n",
       "<style scoped>\n",
       "    .dataframe tbody tr th:only-of-type {\n",
       "        vertical-align: middle;\n",
       "    }\n",
       "\n",
       "    .dataframe tbody tr th {\n",
       "        vertical-align: top;\n",
       "    }\n",
       "\n",
       "    .dataframe thead th {\n",
       "        text-align: right;\n",
       "    }\n",
       "</style>\n",
       "<table border=\"1\" class=\"dataframe\">\n",
       "  <thead>\n",
       "    <tr style=\"text-align: right;\">\n",
       "      <th></th>\n",
       "      <th>prices</th>\n",
       "      <th>hour</th>\n",
       "      <th>day</th>\n",
       "      <th>week</th>\n",
       "      <th>month</th>\n",
       "      <th>weekend</th>\n",
       "      <th>rsi</th>\n",
       "      <th>roc</th>\n",
       "    </tr>\n",
       "  </thead>\n",
       "  <tbody>\n",
       "    <tr>\n",
       "      <th>17500</th>\n",
       "      <td>15.90</td>\n",
       "      <td>4</td>\n",
       "      <td>5</td>\n",
       "      <td>51</td>\n",
       "      <td>11</td>\n",
       "      <td>1</td>\n",
       "      <td>15.581368</td>\n",
       "      <td>65.894466</td>\n",
       "    </tr>\n",
       "    <tr>\n",
       "      <th>17501</th>\n",
       "      <td>20.00</td>\n",
       "      <td>5</td>\n",
       "      <td>5</td>\n",
       "      <td>51</td>\n",
       "      <td>11</td>\n",
       "      <td>1</td>\n",
       "      <td>27.088423</td>\n",
       "      <td>51.397327</td>\n",
       "    </tr>\n",
       "    <tr>\n",
       "      <th>17502</th>\n",
       "      <td>23.68</td>\n",
       "      <td>6</td>\n",
       "      <td>5</td>\n",
       "      <td>51</td>\n",
       "      <td>11</td>\n",
       "      <td>1</td>\n",
       "      <td>36.422559</td>\n",
       "      <td>28.739091</td>\n",
       "    </tr>\n",
       "    <tr>\n",
       "      <th>17503</th>\n",
       "      <td>25.04</td>\n",
       "      <td>7</td>\n",
       "      <td>5</td>\n",
       "      <td>51</td>\n",
       "      <td>11</td>\n",
       "      <td>1</td>\n",
       "      <td>39.838190</td>\n",
       "      <td>18.648473</td>\n",
       "    </tr>\n",
       "    <tr>\n",
       "      <th>17504</th>\n",
       "      <td>25.48</td>\n",
       "      <td>8</td>\n",
       "      <td>5</td>\n",
       "      <td>51</td>\n",
       "      <td>11</td>\n",
       "      <td>1</td>\n",
       "      <td>41.067379</td>\n",
       "      <td>9.900990</td>\n",
       "    </tr>\n",
       "    <tr>\n",
       "      <th>17505</th>\n",
       "      <td>28.67</td>\n",
       "      <td>9</td>\n",
       "      <td>5</td>\n",
       "      <td>51</td>\n",
       "      <td>11</td>\n",
       "      <td>1</td>\n",
       "      <td>49.961816</td>\n",
       "      <td>-16.924959</td>\n",
       "    </tr>\n",
       "    <tr>\n",
       "      <th>17506</th>\n",
       "      <td>28.50</td>\n",
       "      <td>10</td>\n",
       "      <td>5</td>\n",
       "      <td>51</td>\n",
       "      <td>11</td>\n",
       "      <td>1</td>\n",
       "      <td>49.484211</td>\n",
       "      <td>-79.245283</td>\n",
       "    </tr>\n",
       "    <tr>\n",
       "      <th>17507</th>\n",
       "      <td>30.41</td>\n",
       "      <td>11</td>\n",
       "      <td>5</td>\n",
       "      <td>51</td>\n",
       "      <td>11</td>\n",
       "      <td>1</td>\n",
       "      <td>55.251537</td>\n",
       "      <td>-52.050000</td>\n",
       "    </tr>\n",
       "    <tr>\n",
       "      <th>17508</th>\n",
       "      <td>34.67</td>\n",
       "      <td>12</td>\n",
       "      <td>5</td>\n",
       "      <td>51</td>\n",
       "      <td>11</td>\n",
       "      <td>1</td>\n",
       "      <td>65.724852</td>\n",
       "      <td>-46.410473</td>\n",
       "    </tr>\n",
       "    <tr>\n",
       "      <th>17509</th>\n",
       "      <td>31.76</td>\n",
       "      <td>13</td>\n",
       "      <td>5</td>\n",
       "      <td>51</td>\n",
       "      <td>11</td>\n",
       "      <td>1</td>\n",
       "      <td>55.145057</td>\n",
       "      <td>-26.837061</td>\n",
       "    </tr>\n",
       "    <tr>\n",
       "      <th>17510</th>\n",
       "      <td>29.13</td>\n",
       "      <td>14</td>\n",
       "      <td>5</td>\n",
       "      <td>51</td>\n",
       "      <td>11</td>\n",
       "      <td>1</td>\n",
       "      <td>46.948791</td>\n",
       "      <td>-14.324961</td>\n",
       "    </tr>\n",
       "    <tr>\n",
       "      <th>17511</th>\n",
       "      <td>27.48</td>\n",
       "      <td>15</td>\n",
       "      <td>5</td>\n",
       "      <td>51</td>\n",
       "      <td>11</td>\n",
       "      <td>1</td>\n",
       "      <td>42.224042</td>\n",
       "      <td>4.150680</td>\n",
       "    </tr>\n",
       "    <tr>\n",
       "      <th>17512</th>\n",
       "      <td>27.72</td>\n",
       "      <td>16</td>\n",
       "      <td>5</td>\n",
       "      <td>51</td>\n",
       "      <td>11</td>\n",
       "      <td>1</td>\n",
       "      <td>43.221392</td>\n",
       "      <td>2.736842</td>\n",
       "    </tr>\n",
       "    <tr>\n",
       "      <th>17513</th>\n",
       "      <td>33.54</td>\n",
       "      <td>17</td>\n",
       "      <td>5</td>\n",
       "      <td>51</td>\n",
       "      <td>11</td>\n",
       "      <td>1</td>\n",
       "      <td>62.206426</td>\n",
       "      <td>-10.292667</td>\n",
       "    </tr>\n",
       "    <tr>\n",
       "      <th>17514</th>\n",
       "      <td>37.44</td>\n",
       "      <td>18</td>\n",
       "      <td>5</td>\n",
       "      <td>51</td>\n",
       "      <td>11</td>\n",
       "      <td>1</td>\n",
       "      <td>70.214883</td>\n",
       "      <td>-7.989616</td>\n",
       "    </tr>\n",
       "    <tr>\n",
       "      <th>17515</th>\n",
       "      <td>34.56</td>\n",
       "      <td>19</td>\n",
       "      <td>5</td>\n",
       "      <td>51</td>\n",
       "      <td>11</td>\n",
       "      <td>1</td>\n",
       "      <td>59.114585</td>\n",
       "      <td>-8.816121</td>\n",
       "    </tr>\n",
       "    <tr>\n",
       "      <th>17516</th>\n",
       "      <td>28.75</td>\n",
       "      <td>20</td>\n",
       "      <td>5</td>\n",
       "      <td>51</td>\n",
       "      <td>11</td>\n",
       "      <td>1</td>\n",
       "      <td>42.752685</td>\n",
       "      <td>1.304497</td>\n",
       "    </tr>\n",
       "    <tr>\n",
       "      <th>17517</th>\n",
       "      <td>25.79</td>\n",
       "      <td>21</td>\n",
       "      <td>5</td>\n",
       "      <td>51</td>\n",
       "      <td>11</td>\n",
       "      <td>1</td>\n",
       "      <td>36.565325</td>\n",
       "      <td>6.149927</td>\n",
       "    </tr>\n",
       "    <tr>\n",
       "      <th>17518</th>\n",
       "      <td>31.10</td>\n",
       "      <td>22</td>\n",
       "      <td>5</td>\n",
       "      <td>51</td>\n",
       "      <td>11</td>\n",
       "      <td>1</td>\n",
       "      <td>51.633765</td>\n",
       "      <td>-12.193362</td>\n",
       "    </tr>\n",
       "    <tr>\n",
       "      <th>17519</th>\n",
       "      <td>31.46</td>\n",
       "      <td>23</td>\n",
       "      <td>5</td>\n",
       "      <td>51</td>\n",
       "      <td>11</td>\n",
       "      <td>1</td>\n",
       "      <td>52.550746</td>\n",
       "      <td>6.201550</td>\n",
       "    </tr>\n",
       "  </tbody>\n",
       "</table>\n",
       "</div>"
      ],
      "text/plain": [
       "       prices  hour  day week  month  weekend        rsi        roc\n",
       "17500   15.90     4    5   51     11        1  15.581368  65.894466\n",
       "17501   20.00     5    5   51     11        1  27.088423  51.397327\n",
       "17502   23.68     6    5   51     11        1  36.422559  28.739091\n",
       "17503   25.04     7    5   51     11        1  39.838190  18.648473\n",
       "17504   25.48     8    5   51     11        1  41.067379   9.900990\n",
       "17505   28.67     9    5   51     11        1  49.961816 -16.924959\n",
       "17506   28.50    10    5   51     11        1  49.484211 -79.245283\n",
       "17507   30.41    11    5   51     11        1  55.251537 -52.050000\n",
       "17508   34.67    12    5   51     11        1  65.724852 -46.410473\n",
       "17509   31.76    13    5   51     11        1  55.145057 -26.837061\n",
       "17510   29.13    14    5   51     11        1  46.948791 -14.324961\n",
       "17511   27.48    15    5   51     11        1  42.224042   4.150680\n",
       "17512   27.72    16    5   51     11        1  43.221392   2.736842\n",
       "17513   33.54    17    5   51     11        1  62.206426 -10.292667\n",
       "17514   37.44    18    5   51     11        1  70.214883  -7.989616\n",
       "17515   34.56    19    5   51     11        1  59.114585  -8.816121\n",
       "17516   28.75    20    5   51     11        1  42.752685   1.304497\n",
       "17517   25.79    21    5   51     11        1  36.565325   6.149927\n",
       "17518   31.10    22    5   51     11        1  51.633765 -12.193362\n",
       "17519   31.46    23    5   51     11        1  52.550746   6.201550"
      ]
     },
     "execution_count": 42,
     "metadata": {},
     "output_type": "execute_result"
    }
   ],
   "source": [
    "observations.to_csv('data/val.csv')\n",
    "observations.tail(20)"
   ]
  },
  {
   "cell_type": "code",
   "execution_count": null,
   "metadata": {},
   "outputs": [],
   "source": []
  }
 ],
 "metadata": {
  "kernelspec": {
   "display_name": "Python 3",
   "language": "python",
   "name": "python3"
  },
  "language_info": {
   "codemirror_mode": {
    "name": "ipython",
    "version": 3
   },
   "file_extension": ".py",
   "mimetype": "text/x-python",
   "name": "python",
   "nbconvert_exporter": "python",
   "pygments_lexer": "ipython3",
   "version": "3.10.4"
  },
  "orig_nbformat": 4,
  "vscode": {
   "interpreter": {
    "hash": "24d49f9ba279f85446c364afe46b660d98cabfcb87f24a84dd67db72bb8348bd"
   }
  }
 },
 "nbformat": 4,
 "nbformat_minor": 2
}
