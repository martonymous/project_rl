{
 "cells": [
  {
   "cell_type": "code",
   "execution_count": 12,
   "metadata": {},
   "outputs": [],
   "source": [
    "import pandas as pd\n",
    "import numpy as np\n",
    "import datetime as dt\n",
    "import matplotlib.pyplot as plt"
   ]
  },
  {
   "cell_type": "code",
   "execution_count": 2,
   "metadata": {},
   "outputs": [
    {
     "name": "stderr",
     "output_type": "stream",
     "text": [
      "C:\\Users\\Marton\\AppData\\Local\\Temp\\ipykernel_2740\\47752094.py:1: FutureWarning: Defining usecols with out of bounds indices is deprecated and will raise a ParserError in a future version.\n",
      "  df_prices = pd.read_excel('data/train.xlsx', usecols=\"B:Z\")\n"
     ]
    }
   ],
   "source": [
    "df_prices = pd.read_excel('data/train.xlsx', usecols=\"B:Z\")"
   ]
  },
  {
   "cell_type": "code",
   "execution_count": 3,
   "metadata": {},
   "outputs": [],
   "source": [
    "df_days = pd.read_excel('data/train.xlsx', usecols=\"A\")\n",
    "df_days[\"PRICES\"] = df_days[\"PRICES\"].dt.day_of_week\n",
    "df_days[\"a\"], df_days[\"b\"], df_days[\"c\"], df_days[\"v\"], df_days[\"w\"], df_days[\"d\"], df_days[\"e\"], df_days[\"f\"], df_days[\"g\"], df_days[\"h\"], df_days[\"i\"], df_days[\"j\"], df_days[\"k\"], df_days[\"l\"], df_days[\"m\"], df_days[\"n\"], df_days[\"o\"], df_days[\"p\"], df_days[\"q\"], df_days[\"r\"], df_days[\"s\"], df_days[\"t\"], df_days[\"u\"] = [df_days[\"PRICES\"], df_days[\"PRICES\"], df_days[\"PRICES\"], df_days[\"PRICES\"], df_days[\"PRICES\"], df_days[\"PRICES\"], df_days[\"PRICES\"], df_days[\"PRICES\"], df_days[\"PRICES\"], df_days[\"PRICES\"], df_days[\"PRICES\"], df_days[\"PRICES\"], df_days[\"PRICES\"], df_days[\"PRICES\"], df_days[\"PRICES\"], df_days[\"PRICES\"], df_days[\"PRICES\"], df_days[\"PRICES\"], df_days[\"PRICES\"], df_days[\"PRICES\"], df_days[\"PRICES\"], df_days[\"PRICES\"], df_days[\"PRICES\"]]\n",
    "df_days = df_days.to_numpy().flatten()"
   ]
  },
  {
   "cell_type": "code",
   "execution_count": 4,
   "metadata": {},
   "outputs": [],
   "source": [
    "df_week = pd.read_excel('data/train.xlsx', usecols=\"A\")\n",
    "df_week[\"PRICES\"] = df_week[\"PRICES\"].dt.isocalendar().week - 1\n",
    "df_week[\"a\"], df_week[\"b\"], df_week[\"c\"], df_week[\"v\"], df_week[\"w\"], df_week[\"d\"], df_week[\"e\"], df_week[\"f\"], df_week[\"g\"], df_week[\"h\"], df_week[\"i\"], df_week[\"j\"], df_week[\"k\"], df_week[\"l\"], df_week[\"m\"], df_week[\"n\"], df_week[\"o\"], df_week[\"p\"], df_week[\"q\"], df_week[\"r\"], df_week[\"s\"], df_week[\"t\"], df_week[\"u\"] = [df_week[\"PRICES\"], df_week[\"PRICES\"], df_week[\"PRICES\"], df_week[\"PRICES\"], df_week[\"PRICES\"], df_week[\"PRICES\"], df_week[\"PRICES\"], df_week[\"PRICES\"], df_week[\"PRICES\"], df_week[\"PRICES\"], df_week[\"PRICES\"], df_week[\"PRICES\"], df_week[\"PRICES\"], df_week[\"PRICES\"], df_week[\"PRICES\"], df_week[\"PRICES\"], df_week[\"PRICES\"], df_week[\"PRICES\"], df_week[\"PRICES\"], df_week[\"PRICES\"], df_week[\"PRICES\"], df_week[\"PRICES\"], df_week[\"PRICES\"]]\n",
    "df_week = df_week.to_numpy().flatten()"
   ]
  },
  {
   "cell_type": "code",
   "execution_count": 5,
   "metadata": {},
   "outputs": [],
   "source": [
    "df_month = pd.read_excel('data/train.xlsx', usecols=\"A\")\n",
    "df_month[\"PRICES\"] = df_month[\"PRICES\"].dt.month - 1\n",
    "df_month[\"a\"], df_month[\"b\"], df_month[\"c\"], df_month[\"v\"], df_month[\"w\"], df_month[\"d\"], df_month[\"e\"], df_month[\"f\"], df_month[\"g\"], df_month[\"h\"], df_month[\"i\"], df_month[\"j\"], df_month[\"k\"], df_month[\"l\"], df_month[\"m\"], df_month[\"n\"], df_month[\"o\"], df_month[\"p\"], df_month[\"q\"], df_month[\"r\"], df_month[\"s\"], df_month[\"t\"], df_month[\"u\"] = [df_month[\"PRICES\"], df_month[\"PRICES\"], df_month[\"PRICES\"], df_month[\"PRICES\"], df_month[\"PRICES\"], df_month[\"PRICES\"], df_month[\"PRICES\"], df_month[\"PRICES\"], df_month[\"PRICES\"], df_month[\"PRICES\"], df_month[\"PRICES\"], df_month[\"PRICES\"], df_month[\"PRICES\"], df_month[\"PRICES\"], df_month[\"PRICES\"], df_month[\"PRICES\"], df_month[\"PRICES\"], df_month[\"PRICES\"], df_month[\"PRICES\"], df_month[\"PRICES\"], df_month[\"PRICES\"], df_month[\"PRICES\"], df_month[\"PRICES\"]]\n",
    "df_month = df_month.to_numpy().flatten()"
   ]
  },
  {
   "cell_type": "code",
   "execution_count": 6,
   "metadata": {},
   "outputs": [],
   "source": [
    "df_hour = np.arange(24)\n",
    "df_hour = np.tile(df_hour, df_prices.shape[0])\n"
   ]
  },
  {
   "cell_type": "code",
   "execution_count": 7,
   "metadata": {},
   "outputs": [
    {
     "data": {
      "text/plain": [
       "26304"
      ]
     },
     "execution_count": 7,
     "metadata": {},
     "output_type": "execute_result"
    }
   ],
   "source": [
    "df_prices = df_prices.to_numpy().flatten()\n",
    "len(df_prices)"
   ]
  },
  {
   "cell_type": "code",
   "execution_count": 8,
   "metadata": {},
   "outputs": [],
   "source": [
    "observations = pd.DataFrame({\n",
    "    \"prices\": df_prices, \n",
    "    \"hour\": df_hour,\n",
    "    \"day\": df_days,\n",
    "    \"week\": df_week,\n",
    "    \"month\" : df_month\n",
    "})\n",
    "observations.head()\n",
    "observations.to_csv('data/train_processed.csv')"
   ]
  },
  {
   "cell_type": "code",
   "execution_count": 9,
   "metadata": {},
   "outputs": [
    {
     "data": {
      "text/plain": [
       "52"
      ]
     },
     "execution_count": 9,
     "metadata": {},
     "output_type": "execute_result"
    }
   ],
   "source": [
    "np.max(df_week)"
   ]
  },
  {
   "cell_type": "code",
   "execution_count": 13,
   "metadata": {},
   "outputs": [
    {
     "data": {
      "text/plain": [
       "[<matplotlib.lines.Line2D at 0x26bea0681c0>]"
      ]
     },
     "execution_count": 13,
     "metadata": {},
     "output_type": "execute_result"
    },
    {
     "data": {
      "image/png": "[encoded data removed]",
      "text/plain": [
       "<Figure size 640x480 with 1 Axes>"
      ]
     },
     "metadata": {},
     "output_type": "display_data"
    }
   ],
   "source": [
    "plt.figsize(figsize)\n",
    "plt.plot(df_prices)"
   ]
  },
  {
   "cell_type": "code",
   "execution_count": null,
   "metadata": {},
   "outputs": [],
   "source": []
  }
 ],
 "metadata": {
  "kernelspec": {
   "display_name": "Python 3",
   "language": "python",
   "name": "python3"
  },
  "language_info": {
   "codemirror_mode": {
    "name": "ipython",
    "version": 3
   },
   "file_extension": ".py",
   "mimetype": "text/x-python",
   "name": "python",
   "nbconvert_exporter": "python",
   "pygments_lexer": "ipython3",
   "version": "3.9.13"
  },
  "orig_nbformat": 4,
  "vscode": {
   "interpreter": {
    "hash": "3e9dd88dc76e4cdbc1be5baf3582b7209f51f3b763d475dd687d0376171be325"
   }
  }
 },
 "nbformat": 4,
 "nbformat_minor": 2
}
